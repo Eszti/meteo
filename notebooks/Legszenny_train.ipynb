{
 "cells": [
  {
   "cell_type": "markdown",
   "metadata": {},
   "source": [
    "# Légszennyezettség - neurális háló tanítása"
   ]
  },
  {
   "cell_type": "code",
   "execution_count": 47,
   "metadata": {
    "collapsed": true
   },
   "outputs": [],
   "source": [
    "import pickle\n",
    "import numpy as np\n",
    "import tensorflow as tf"
   ]
  },
  {
   "cell_type": "markdown",
   "metadata": {},
   "source": [
    "Load data:"
   ]
  },
  {
   "cell_type": "code",
   "execution_count": 2,
   "metadata": {
    "collapsed": true
   },
   "outputs": [],
   "source": [
    "def load_data(pickle_file):\n",
    "    with open(pickle_file, 'rb') as f:\n",
    "        return pickle.load(f)"
   ]
  },
  {
   "cell_type": "code",
   "execution_count": 39,
   "metadata": {
    "collapsed": false
   },
   "outputs": [],
   "source": [
    "def filter_input_data(cols_to_del, train_ds, valid_ds, test_ds):\n",
    "    return tuple([np.delete(i, cols_to_del, axis=1) for i in [train_ds, valid_ds, test_ds]])"
   ]
  },
  {
   "cell_type": "code",
   "execution_count": 10,
   "metadata": {
    "collapsed": false
   },
   "outputs": [],
   "source": [
    "train_file_name = '../res/input_data/train.pickle'\n",
    "valid_file_name = '../res/input_data/valid.pickle'\n",
    "test_file_name = '../res/input_data/test.pickle'\n",
    "\n",
    "train_data_full = load_data(train_file_name)\n",
    "valid_data_full = load_data(valid_file_name)\n",
    "test_data_full = load_data(test_file_name)"
   ]
  },
  {
   "cell_type": "code",
   "execution_count": 73,
   "metadata": {
    "collapsed": false
   },
   "outputs": [],
   "source": [
    "train_data = train_data_full[:, 0:-1].astype(np.float32)\n",
    "train_labels = train_data_full[:, -1].reshape((-1, 1)).astype(np.float32)\n",
    "valid_data = valid_data_full[:, 0:-1].astype(np.float32)\n",
    "valid_labels = valid_data_full[:, -1].reshape((-1, 1)).astype(np.float32)\n",
    "test_data = test_data_full[:, 0:-1].astype(np.float32)\n",
    "test_labels = test_data_full[:, -1].reshape((-1, 1)).astype(np.float32)\n",
    "\n",
    "train_labels_one_hot = np.hstack(((1 - train_labels), train_labels))\n",
    "valid_labels_one_hot = np.hstack(((1 - valid_labels), valid_labels))\n",
    "test_labels_one_hot = np.hstack(((1 - test_labels), test_labels))\n",
    "\n",
    "cols_to_del = [0,4,13]\n",
    "train_d_filtered, valid_d_filtered, test_d_filtered = filter_input_data(cols_to_del, train_data, valid_data, test_data)"
   ]
  },
  {
   "cell_type": "code",
   "execution_count": 85,
   "metadata": {
    "collapsed": true
   },
   "outputs": [],
   "source": [
    "def accuracy(predictions, labels):\n",
    "  return (100.0 * np.sum(np.argmax(predictions, 1) == np.argmax(labels, 1))\n",
    "          / predictions.shape[0])\n",
    "\n",
    "def train(train_dataset, train_labels, valid_dataset, valid_labels, test_dataset, test_labels,\n",
    "          dim, num_labels=2, learning_rate=0.3, batch_size=128, num_steps=1001, hidden_nodes=46):\n",
    "    graph = tf.Graph()\n",
    "    with graph.as_default():\n",
    "\n",
    "      # Input data. For the training data, we use a placeholder that will be fed\n",
    "      # at run time with a training minibatch.\n",
    "      tf_train_dataset = tf.placeholder(tf.float32,\n",
    "                                        shape=(batch_size, dim))\n",
    "      tf_train_labels = tf.placeholder(tf.float32, shape=(batch_size, num_labels))\n",
    "      tf_valid_dataset = tf.constant(valid_dataset)\n",
    "      tf_test_dataset = tf.constant(test_dataset)\n",
    "\n",
    "      # Variables.    \n",
    "      weights1 = tf.Variable(tf.truncated_normal([dim, hidden_nodes]))\n",
    "      biases1 = tf.Variable(tf.zeros([hidden_nodes]))\n",
    "      weights2 = tf.Variable(tf.truncated_normal([hidden_nodes, num_labels]))\n",
    "      biases2 = tf.Variable(tf.zeros([num_labels]))\n",
    "\n",
    "      # Training computation.        \n",
    "      first = tf.matmul(tf_train_dataset, weights1) + biases1\n",
    "      hidden = tf.nn.relu(first)\n",
    "      logits = tf.matmul(hidden, weights2) + biases2\n",
    "      loss = tf.reduce_mean(tf.nn.softmax_cross_entropy_with_logits(labels=tf_train_labels, logits=logits))\n",
    "\n",
    "      # Optimizer.\n",
    "      optimizer = tf.train.GradientDescentOptimizer(learning_rate).minimize(loss)\n",
    "\n",
    "      # Predictions for the training, validation, and test data.\n",
    "      train_prediction = tf.nn.softmax(logits)\n",
    "      valid_prediction = tf.nn.softmax(tf.matmul(tf.nn.relu(\n",
    "          tf.matmul(tf_valid_dataset, weights1) + biases1), weights2) + biases2)\n",
    "      test_prediction = tf.nn.softmax(tf.matmul(tf.nn.relu(\n",
    "          tf.matmul(tf_test_dataset, weights1) + biases1), weights2) + biases2)\n",
    "\n",
    "    with tf.Session(graph=graph) as session:\n",
    "      tf.global_variables_initializer().run()\n",
    "      print(\"Initialized\")\n",
    "      for step in range(num_steps):\n",
    "        # Pick an offset within the training data, which has been randomized.\n",
    "        # Note: we could use better randomization across epochs.\n",
    "        offset = (step * batch_size) % (train_labels.shape[0] - batch_size)\n",
    "        # Generate a minibatch.\n",
    "        batch_data = train_dataset[offset:(offset + batch_size), :]\n",
    "        batch_labels = train_labels[offset:(offset + batch_size), :]\n",
    "        # Prepare a dictionary telling the session where to feed the minibatch.\n",
    "        # The key of the dictionary is the placeholder node of the graph to be fed,\n",
    "        # and the value is the numpy array to feed to it.\n",
    "        feed_dict = {tf_train_dataset : batch_data, tf_train_labels : batch_labels}\n",
    "        _, l, predictions = session.run(\n",
    "          [optimizer, loss, train_prediction], feed_dict=feed_dict)\n",
    "        if (step % 500 == 0):\n",
    "          print(\"Minibatch loss at step %d: %f\" % (step, l))\n",
    "          print(\"Minibatch accuracy: %.1f%%\" % accuracy(predictions, batch_labels))\n",
    "          print(\"Validation accuracy: %.1f%%\" % accuracy(\n",
    "            valid_prediction.eval(), valid_labels))\n",
    "      print(\"Test accuracy: %.1f%%\" % accuracy(test_prediction.eval(), test_labels))"
   ]
  },
  {
   "cell_type": "code",
   "execution_count": 87,
   "metadata": {
    "collapsed": false
   },
   "outputs": [
    {
     "name": "stdout",
     "output_type": "stream",
     "text": [
      "Initialized\n",
      "Minibatch loss at step 0: 15222.566406\n",
      "Minibatch accuracy: 50.0%\n",
      "Validation accuracy: 50.0%\n",
      "Minibatch loss at step 500: 0.693140\n",
      "Minibatch accuracy: 50.0%\n",
      "Validation accuracy: 50.0%\n",
      "Minibatch loss at step 1000: 0.693140\n",
      "Minibatch accuracy: 50.0%\n",
      "Validation accuracy: 50.0%\n",
      "Minibatch loss at step 1500: 0.693140\n",
      "Minibatch accuracy: 50.0%\n",
      "Validation accuracy: 50.0%\n",
      "Minibatch loss at step 2000: 0.693140\n",
      "Minibatch accuracy: 50.0%\n",
      "Validation accuracy: 50.0%\n",
      "Minibatch loss at step 2500: 0.693140\n",
      "Minibatch accuracy: 50.0%\n",
      "Validation accuracy: 50.0%\n",
      "Minibatch loss at step 3000: 0.693140\n",
      "Minibatch accuracy: 50.0%\n",
      "Validation accuracy: 50.0%\n",
      "Minibatch loss at step 3500: 0.693140\n",
      "Minibatch accuracy: 50.0%\n",
      "Validation accuracy: 50.0%\n",
      "Minibatch loss at step 4000: 0.693140\n",
      "Minibatch accuracy: 50.0%\n",
      "Validation accuracy: 50.0%\n",
      "Minibatch loss at step 4500: 0.693140\n",
      "Minibatch accuracy: 50.0%\n",
      "Validation accuracy: 50.0%\n",
      "Test accuracy: 96.5%\n"
     ]
    }
   ],
   "source": [
    "batch_size = train_d_filtered.shape[0] - 1\n",
    "dim = train_d_filtered.shape[1]\n",
    "train(train_d_filtered, train_labels_one_hot, valid_d_filtered, valid_labels_one_hot, test_d_filtered, test_labels_one_hot,\n",
    "      dim, num_steps=5000, learning_rate=0.5, batch_size=batch_size, hidden_nodes=100)"
   ]
  }
 ],
 "metadata": {
  "kernelspec": {
   "display_name": "Python 2",
   "language": "python",
   "name": "python2"
  },
  "language_info": {
   "codemirror_mode": {
    "name": "ipython",
    "version": 2
   },
   "file_extension": ".py",
   "mimetype": "text/x-python",
   "name": "python",
   "nbconvert_exporter": "python",
   "pygments_lexer": "ipython2",
   "version": "2.7.12"
  }
 },
 "nbformat": 4,
 "nbformat_minor": 2
}
